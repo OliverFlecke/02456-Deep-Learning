{
 "cells": [
  {
   "cell_type": "code",
   "execution_count": 63,
   "metadata": {},
   "outputs": [],
   "source": [
    "import numpy as np\n",
    "import pandas as pd\n",
    "\n",
    "import os\n",
    "import shutil\n",
    "import glob\n",
    "\n",
    "from PIL import Image, ImageDraw"
   ]
  },
  {
   "cell_type": "code",
   "execution_count": null,
   "metadata": {},
   "outputs": [],
   "source": [
    "dataset = 'train'"
   ]
  },
  {
   "cell_type": "code",
   "execution_count": null,
   "metadata": {},
   "outputs": [],
   "source": [
    "def cropImages(df, source_dir, target_dir):\n",
    "    \n",
    "    # Group by ids to loop through index levels\n",
    "    # and make sure the first columns are x/y values\n",
    "    df = df.groupby(['image_id', 'tag_id']).first()\n",
    "    \n",
    "    # Create missing directory\n",
    "    if not os.path.exists(target_dir):\n",
    "        os.makedirs(target_dir)\n",
    "        \n",
    "    # Loop through image ids\n",
    "    for image_id, image_df in df.groupby(level=0):\n",
    "        \n",
    "        # Find and open image without knowing the extension (jpg/tiff)\n",
    "        image_file = glob.glob(os.path.join(source_dir, f'{image_id}.*'))[0]\n",
    "        image = Image.open(image_file)\n",
    "\n",
    "        # Loop through tag ids\n",
    "        for tag_id, tag_entry in image_df.groupby(level=1):\n",
    "            \n",
    "            # Filename for saving image\n",
    "            tag_file = f'{target_dir}{image_id}_{tag_id}.png'\n",
    "            \n",
    "            # Extract x/y values and create x/y vectors\n",
    "            xyraw = tag_entry.values[0,:8]\n",
    "            xvec, yvec = xyraw[0::2], xyraw[1::2]\n",
    "            \n",
    "            # Find x/y indices by size to adjust +/- padding\n",
    "            pad = 5\n",
    "            xind, yind = np.argsort(xvec), np.argsort(yvec)\n",
    "        \n",
    "            # Pad entire vector\n",
    "            xvec[xind[:2]] -= pad; xvec[xind[2:]] += pad\n",
    "            yvec[yind[:2]] -= pad; yvec[yind[2:]] += pad            \n",
    "            \n",
    "            # Find rectangle's (left, upper, right, lower)\n",
    "            xmin, ymin = min(xvec), min(yvec)\n",
    "            xmax, ymax = max(xvec), max(yvec)            \n",
    "            \n",
    "            # Crop image as rectangle\n",
    "            cropped = image.crop((xmin, ymin, xmax, ymax))\n",
    "    \n",
    "            # List of polygon points adjusted to cropped image\n",
    "            xy = list(zip(xvec - xmin, yvec - ymin))\n",
    "        \n",
    "            # Create mask to remove everything outside image polygon\n",
    "            mask = Image.new('1', cropped.size, 1)\n",
    "            ImageDraw.Draw(mask).polygon(xy, outline=0, fill=0)\n",
    "            Image.composite(mask, cropped, mask).save(tag_file)"
   ]
  },
  {
   "cell_type": "code",
   "execution_count": null,
   "metadata": {},
   "outputs": [],
   "source": [
    "%%time\n",
    "\n",
    "df = pd.read_csv(f'./dataset_v2/{dataset}.csv')\n",
    "source_dir = f'./dataset_v2/{dataset}/'\n",
    "target_dir = f'./dataset_v2/{dataset}/cropped/'\n",
    "\n",
    "cropImages(df, source_dir, target_dir)"
   ]
  },
  {
   "cell_type": "code",
   "execution_count": 71,
   "metadata": {},
   "outputs": [],
   "source": [
    "def copyImages(df, source_dir, target_dir):\n",
    "    \n",
    "    # Ignore impossible features\n",
    "    df = df.replace(-1, 0)\n",
    "    \n",
    "    # Replace unwanted characters\n",
    "    df = df.replace(' ', '_', regex=True)\n",
    "    df = df.replace('/', '_', regex=True)\n",
    "    \n",
    "    # Loop through all categories starting at index 10\n",
    "    for category in df.columns[10:]:\n",
    "        \n",
    "        # Group by the given category\n",
    "        cat_df = df.groupby([category, 'image_id', 'tag_id']).first()\n",
    "\n",
    "        # Create category directory\n",
    "        target_dir = f'{target_dir}{category}'    \n",
    "        if not os.path.exists(target_dir):\n",
    "            os.makedirs(target_dir)\n",
    "\n",
    "        # Loop through all sub-categories\n",
    "        for sub_category, sub_df in cat_df.groupby(level=0):\n",
    "\n",
    "            # Create sub-category directory\n",
    "            sub_target_dir = f'{target_dir}/{sub_category}/'\n",
    "            if not os.path.exists(sub_target_dir):\n",
    "                os.makedirs(sub_target_dir)\n",
    "\n",
    "            # Loop through image ids\n",
    "            for image_id, image_df in sub_df.groupby(level=1):\n",
    "\n",
    "                # Loop through tag ids\n",
    "                for tag_id, tag_entry in image_df.groupby(level=2):\n",
    "\n",
    "                    # Get file name and copy to target directory\n",
    "                    tag_file = f'{source_dir}{image_id}_{tag_id}.png'\n",
    "                    shutil.copy2(tag_file, sub_target_dir)"
   ]
  },
  {
   "cell_type": "code",
   "execution_count": 73,
   "metadata": {},
   "outputs": [
    {
     "name": "stdout",
     "output_type": "stream",
     "text": [
      "Wall time: 4min 26s\n"
     ]
    }
   ],
   "source": [
    "%%time\n",
    "\n",
    "df = pd.read_csv(f'./dataset_v2/{dataset}.csv')\n",
    "source_dir = f'./dataset_v2/{dataset}/cropped/'\n",
    "target_dir = f'./dataset_v2/{dataset}/divided/'\n",
    "\n",
    "copyImages(df, source_dir, target_dir)"
   ]
  },
  {
   "cell_type": "code",
   "execution_count": 104,
   "metadata": {},
   "outputs": [],
   "source": [
    "def moveSubclasses(df, source_dir):\n",
    "    \n",
    "    # Replace unwanted characters\n",
    "    df = df.replace(' ', '_', regex=True)\n",
    "    df = df.replace('/', '_', regex=True)\n",
    "    \n",
    "    # Group by general class to divide the set of sub-classes\n",
    "    df = df.groupby(['general_class', 'sub_class', 'image_id', 'tag_id']).first();\n",
    "\n",
    "    # Loop through general classes\n",
    "    for general_class, general_df in df.groupby(level=0):\n",
    "        \n",
    "        # Loop through sub-classes\n",
    "        for sub_class, sub_df in general_df.groupby(level=1):\n",
    "            \n",
    "            # Get source and target directories\n",
    "            sub_source_dir = f'{source_dir}sub_class/{sub_class}/'\n",
    "            sub_target_dir = f'{source_dir}{general_class}/{sub_class}/'\n",
    "\n",
    "            # Move directory\n",
    "            if not os.path.exists(sub_target_dir):\n",
    "                shutil.move(sub_source_dir, sub_target_dir)"
   ]
  },
  {
   "cell_type": "code",
   "execution_count": 105,
   "metadata": {},
   "outputs": [
    {
     "name": "stdout",
     "output_type": "stream",
     "text": [
      "Wall time: 411 ms\n"
     ]
    }
   ],
   "source": [
    "%%time\n",
    "\n",
    "moveSubclasses(df, target_dir)"
   ]
  },
  {
   "cell_type": "code",
   "execution_count": null,
   "metadata": {},
   "outputs": [],
   "source": []
  }
 ],
 "metadata": {
  "kernelspec": {
   "display_name": "Python 3",
   "language": "python",
   "name": "python3"
  },
  "language_info": {
   "codemirror_mode": {
    "name": "ipython",
    "version": 3
   },
   "file_extension": ".py",
   "mimetype": "text/x-python",
   "name": "python",
   "nbconvert_exporter": "python",
   "pygments_lexer": "ipython3",
   "version": "3.6.7"
  }
 },
 "nbformat": 4,
 "nbformat_minor": 2
}
